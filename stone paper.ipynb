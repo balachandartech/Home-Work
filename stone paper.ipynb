{
 "cells": [
  {
   "cell_type": "code",
   "execution_count": 54,
   "id": "0b6bb4a4-f415-431a-aceb-18f54767e7b6",
   "metadata": {},
   "outputs": [
    {
     "name": "stdin",
     "output_type": "stream",
     "text": [
      "bala's choice: stone\n",
      "karthi's choice: scissor\n"
     ]
    },
    {
     "name": "stdout",
     "output_type": "stream",
     "text": [
      "bala win\n",
      "1\n",
      "karthi win the game\n"
     ]
    },
    {
     "name": "stdin",
     "output_type": "stream",
     "text": [
      "bala's choice: stone\n",
      "karthi's choice: scissor\n"
     ]
    },
    {
     "name": "stdout",
     "output_type": "stream",
     "text": [
      "bala win\n",
      "2\n",
      "karthi win the game\n"
     ]
    },
    {
     "name": "stdin",
     "output_type": "stream",
     "text": [
      "bala's choice: stone\n",
      "karthi's choice: scissor\n"
     ]
    },
    {
     "name": "stdout",
     "output_type": "stream",
     "text": [
      "bala win\n",
      "3\n",
      "karthi win the game\n"
     ]
    }
   ],
   "source": [
    "def game():\n",
    "    \n",
    "        bala_score=0\n",
    "        karthick_score=0\n",
    "        for i in range(1,4):\n",
    "            bala=input(\"bala's choice:\")\n",
    "            karthick=input(\"karthi's choice:\")\n",
    "            if(bala==\"stone\")and(karthick==\"paper\")or(bala==\"stone\")and(karthick==\"scissor\")or(bala==\"paper\")and(karthick==\"scissor\"):\n",
    "                print(\"bala win\")\n",
    "                bala_score+=1\n",
    "                print(bala_score)\n",
    "            elif(bala==\"paper\")and(karthick==\"stone\")or(bala==\"scissor\")and(karthick==\"paper\")or(bala==\"scissor\")and(karthick==\"stone\"):\n",
    "                print(\"karthick win\")\n",
    "                karthick_score+=1\n",
    "                print(karthick_score)\n",
    "            elif(bala==karthick):\n",
    "                print(\"tie.try again\")\n",
    "            else:\n",
    "                print(\"invalid\")\n",
    "      \n",
    "            if karthick_score>bala_score:\n",
    "               print(\"bala win the game\")\n",
    "            elif bala_score>karthick_score:\n",
    "               print(\"karthi win the game\")\n",
    "            elif karthick_score==bala_score:\n",
    "               print(\"its draw\")\n",
    "                \n",
    "   \n",
    "game()\n",
    "    \n"
   ]
  },
  {
   "cell_type": "code",
   "execution_count": 34,
   "id": "804a1b00-3180-47a4-b449-3976ad664246",
   "metadata": {},
   "outputs": [
    {
     "name": "stdin",
     "output_type": "stream",
     "text": [
      "bala's choice:  stone\n",
      "karthick's choice:  stone\n"
     ]
    },
    {
     "name": "stdout",
     "output_type": "stream",
     "text": [
      "tie. try again\n"
     ]
    },
    {
     "name": "stdin",
     "output_type": "stream",
     "text": [
      "bala's choice:  stone\n",
      "karthick's choice:  paper\n"
     ]
    },
    {
     "name": "stdout",
     "output_type": "stream",
     "text": [
      "karthick wins this round\n",
      "karthick_score = 1\n"
     ]
    },
    {
     "name": "stdin",
     "output_type": "stream",
     "text": [
      "bala's choice:  paper\n",
      "karthick's choice:  scissor\n"
     ]
    },
    {
     "name": "stdout",
     "output_type": "stream",
     "text": [
      "karthick wins this round\n",
      "karthick_score = 2\n",
      "\n",
      "final score\n",
      "bala: 0, karthick: 2\n",
      "karthick wins the game\n"
     ]
    }
   ],
   "source": [
    "def game():\n",
    "    try:\n",
    "        bala_score = 0\n",
    "        karthick_score = 0\n",
    "        valid = {\"stone\", \"paper\", \"scissor\"}\n",
    "\n",
    "        for i in range(1, 4):\n",
    "            bala = input(\"bala's choice: \").strip().lower()\n",
    "            karthick = input(\"karthick's choice: \").strip().lower()\n",
    "\n",
    "            if bala not in valid or karthick not in valid:\n",
    "                print(\"invalid\")\n",
    "                continue\n",
    "\n",
    "            if (bala == \"stone\" and karthick == \"scissor\") or \\\n",
    "               (bala == \"paper\" and karthick == \"stone\") or \\\n",
    "               (bala == \"scissor\" and karthick == \"paper\"):\n",
    "                bala_score += 1\n",
    "                print(\"bala wins this round\")\n",
    "                print(\"bala_score =\", bala_score)\n",
    "\n",
    "            elif (karthick == \"stone\" and bala == \"scissor\") or \\\n",
    "                 (karthick == \"paper\" and bala == \"stone\") or \\\n",
    "                 (karthick == \"scissor\" and bala == \"paper\"):\n",
    "                karthick_score += 1\n",
    "                print(\"karthick wins this round\")\n",
    "                print(\"karthick_score =\", karthick_score)\n",
    "\n",
    "            else:\n",
    "                print(\"tie. try again\")\n",
    "\n",
    "    \n",
    "\n",
    "        if bala_score > karthick_score:\n",
    "            print(\"bala wins the game\")\n",
    "        elif karthick_score > bala_score:\n",
    "            print(\"karthick wins the game\")\n",
    "        else:\n",
    "            print(\"it is a draw\")\n",
    "\n",
    "    except Exception as e:\n",
    "        print(\"error:\", e)\n",
    "\n",
    "game()\n"
   ]
  },
  {
   "cell_type": "code",
   "execution_count": null,
   "id": "98eb5435-8f94-4544-b7c8-73dd6e5692fb",
   "metadata": {},
   "outputs": [],
   "source": []
  }
 ],
 "metadata": {
  "kernelspec": {
   "display_name": "Python 3 (ipykernel)",
   "language": "python",
   "name": "python3"
  },
  "language_info": {
   "codemirror_mode": {
    "name": "ipython",
    "version": 3
   },
   "file_extension": ".py",
   "mimetype": "text/x-python",
   "name": "python",
   "nbconvert_exporter": "python",
   "pygments_lexer": "ipython3",
   "version": "3.13.5"
  }
 },
 "nbformat": 4,
 "nbformat_minor": 5
}
