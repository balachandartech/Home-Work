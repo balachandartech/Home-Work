{
 "cells": [
  {
   "cell_type": "code",
   "execution_count": 1,
   "id": "2239d1f2-0d9c-4dab-ae13-b77ee2bbd962",
   "metadata": {},
   "outputs": [
    {
     "name": "stdout",
     "output_type": "stream",
     "text": [
      "Addition: 13\n",
      "Subtraction: 7\n",
      "Multiplication: 30\n",
      "Division: 3.3333333333333335\n",
      "Floor Division: 3\n",
      "Modulus: 1\n",
      "Exponent: 1000\n"
     ]
    }
   ],
   "source": [
    "# Arithmetic Operators\n",
    "a = 10\n",
    "b = 3\n",
    "\n",
    "print(\"Addition:\", a + b)\n",
    "print(\"Subtraction:\", a - b)    \n",
    "print(\"Multiplication:\", a * b)  \n",
    "print(\"Division:\", a / b)        \n",
    "print(\"Floor Division:\", a // b) \n",
    "print(\"Modulus:\", a % b)         \n",
    "print(\"Exponent:\", a ** b)       \n"
   ]
  },
  {
   "cell_type": "code",
   "execution_count": 2,
   "id": "82519354-0a6d-4372-8e94-c1cbb8a8ed26",
   "metadata": {},
   "outputs": [
    {
     "name": "stdout",
     "output_type": "stream",
     "text": [
      "Equal: False\n",
      "Not Equal: True\n",
      "Greater: False\n",
      "Less: True\n",
      "Greater or Equal: False\n",
      "Less or Equal: True\n"
     ]
    }
   ],
   "source": [
    "# Comparison Operators\n",
    "x = 5\n",
    "y = 10\n",
    "\n",
    "print(\"Equal:\", x == y)          \n",
    "print(\"Not Equal:\", x != y)      \n",
    "print(\"Greater:\", x > y)         \n",
    "print(\"Less:\", x < y)            \n",
    "print(\"Greater or Equal:\", x >= y) \n",
    "print(\"Less or Equal:\", x <= y)    \n"
   ]
  },
  {
   "cell_type": "code",
   "execution_count": 4,
   "id": "1670a96a-5a6d-4595-90ec-ca915efe83e3",
   "metadata": {},
   "outputs": [
    {
     "name": "stdout",
     "output_type": "stream",
     "text": [
      "AND Operator: True\n",
      "OR Operator: True\n",
      "NOT Operator: False\n"
     ]
    }
   ],
   "source": [
    "# Logical Operators \n",
    "\n",
    "x = 10\n",
    "y = 5\n",
    "print(\"AND Operator:\", x > 5 and y < 10)\n",
    "print(\"OR Operator:\", x < 5 or y < 10)\n",
    "print(\"NOT Operator:\", not(x > y))        \n"
   ]
  },
  {
   "cell_type": "code",
   "execution_count": 12,
   "id": "efec47fd-0a0a-4d64-bcca-2aaeb48b18c0",
   "metadata": {},
   "outputs": [
    {
     "name": "stdout",
     "output_type": "stream",
     "text": [
      "After += : 15\n",
      "After -= : 12\n",
      "After *= : 48\n",
      "After /= : 6.0\n"
     ]
    }
   ],
   "source": [
    "#Assigment Operators\n",
    "\n",
    "a = 10\n",
    "a += 5  \n",
    "print(\"After += :\", a)\n",
    "a-=3\n",
    "print(\"After -= :\", a)\n",
    "a*=4\n",
    "print(\"After *= :\", a)\n",
    "a/=8\n",
    "print(\"After /= :\", a)"
   ]
  },
  {
   "cell_type": "code",
   "execution_count": null,
   "id": "6448ebeb-9c7b-4799-91f9-6d6c964265bc",
   "metadata": {},
   "outputs": [],
   "source": []
  }
 ],
 "metadata": {
  "kernelspec": {
   "display_name": "Python [conda env:base] *",
   "language": "python",
   "name": "conda-base-py"
  },
  "language_info": {
   "codemirror_mode": {
    "name": "ipython",
    "version": 3
   },
   "file_extension": ".py",
   "mimetype": "text/x-python",
   "name": "python",
   "nbconvert_exporter": "python",
   "pygments_lexer": "ipython3",
   "version": "3.13.5"
  }
 },
 "nbformat": 4,
 "nbformat_minor": 5
}
