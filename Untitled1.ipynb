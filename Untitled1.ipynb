{
 "cells": [
  {
   "cell_type": "code",
   "execution_count": 10,
   "id": "f1cde186-395f-489d-b56e-b8c4c392a8c1",
   "metadata": {},
   "outputs": [
    {
     "name": "stdin",
     "output_type": "stream",
     "text": [
      "my name is bala\n",
      "my age is 27\n"
     ]
    },
    {
     "name": "stdout",
     "output_type": "stream",
     "text": [
      "my name is: bala\n",
      "my age is: 27\n"
     ]
    }
   ],
   "source": [
    "a=(input(\"my name is\"))\n",
    "b=int(input(\"my age is\"))\n",
    "print(\"my name is:\",a)\n",
    "print(\"my age is:\",b)"
   ]
  },
  {
   "cell_type": "code",
   "execution_count": 12,
   "id": "8acff8ad-a552-4421-891c-b3c86d2d8173",
   "metadata": {},
   "outputs": [
    {
     "name": "stdin",
     "output_type": "stream",
     "text": [
      "enter value for a 2\n",
      "enter value for b 3\n",
      "enter value for c 4\n"
     ]
    },
    {
     "name": "stdout",
     "output_type": "stream",
     "text": [
      "2.6666666666666665\n"
     ]
    }
   ],
   "source": [
    "a=(int(input(\"enter value for a\")))\n",
    "b=(int(input(\"enter value for b\")))\n",
    "c=(int(input(\"enter value for c\")))\n",
    "d=a*b*c\n",
    "e=a+b+c\n",
    "f=d/e\n",
    "print(f)"
   ]
  },
  {
   "cell_type": "code",
   "execution_count": 20,
   "id": "63c055a7-a936-4500-a04e-b19037078d3a",
   "metadata": {},
   "outputs": [
    {
     "name": "stdin",
     "output_type": "stream",
     "text": [
      "enter the name bala\n",
      "enter the score 79\n",
      "enter the department mech\n"
     ]
    },
    {
     "name": "stdout",
     "output_type": "stream",
     "text": [
      "name bala\n",
      "score 7.9 /10\n",
      "department mech\n"
     ]
    }
   ],
   "source": [
    "name=input(\"enter the name\")\n",
    "score=int(input(\"enter the score\"))\n",
    "department=input(\"enter the department\")\n",
    "print(\"name\",name)\n",
    "print(\"score\",score/10,\"/10\")\n",
    "print(\"department\",department)"
   ]
  },
  {
   "cell_type": "code",
   "execution_count": 35,
   "id": "331ae9e6-4aa5-43d6-ab12-84e4f99a88f2",
   "metadata": {},
   "outputs": [
    {
     "name": "stdout",
     "output_type": "stream",
     "text": [
      "1\n",
      "[0, 1, 1, 2, 3, 4, 5]\n",
      "[11, 1, 1, 2, 3, 4, 5]\n",
      "[11, 1, 2, 3, 4, 5]\n"
     ]
    }
   ],
   "source": [
    "a=[1,1,2,3,4,5]\n",
    "print(a[0])\n",
    "a.insert(0,0)\n",
    "print(a)\n",
    "a[0]=11\n",
    "print(a)\n",
    "a.remove(1,)\n",
    "print(a)"
   ]
  },
  {
   "cell_type": "code",
   "execution_count": 44,
   "id": "f41e214a-f629-4af6-b805-fabe44f01df3",
   "metadata": {},
   "outputs": [
    {
     "name": "stdin",
     "output_type": "stream",
     "text": [
      "enter the number 15\n"
     ]
    },
    {
     "name": "stdout",
     "output_type": "stream",
     "text": [
      "divisible by both\n"
     ]
    }
   ],
   "source": [
    "a=(int(input(\"enter the number\")))\n",
    "if(a%3==0)and(a%5==0):\n",
    "    print(\"divisible by both\")\n",
    "else:\n",
    "    print(\"notdivisble\")"
   ]
  },
  {
   "cell_type": "code",
   "execution_count": null,
   "id": "1eb9c4c5-c61a-4a43-8132-fb42ffa2fced",
   "metadata": {},
   "outputs": [],
   "source": []
  }
 ],
 "metadata": {
  "kernelspec": {
   "display_name": "Python [conda env:base] *",
   "language": "python",
   "name": "conda-base-py"
  },
  "language_info": {
   "codemirror_mode": {
    "name": "ipython",
    "version": 3
   },
   "file_extension": ".py",
   "mimetype": "text/x-python",
   "name": "python",
   "nbconvert_exporter": "python",
   "pygments_lexer": "ipython3",
   "version": "3.13.5"
  }
 },
 "nbformat": 4,
 "nbformat_minor": 5
}
