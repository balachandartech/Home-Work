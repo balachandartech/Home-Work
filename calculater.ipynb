{
 "cells": [
  {
   "cell_type": "code",
   "execution_count": 18,
   "id": "8f055bf5-86db-47d3-b866-df335b33aed6",
   "metadata": {},
   "outputs": [
    {
     "name": "stdin",
     "output_type": "stream",
     "text": [
      "enter value for a: hi\n"
     ]
    },
    {
     "name": "stdout",
     "output_type": "stream",
     "text": [
      "invalid literal for int() with base 10: 'hi'\n"
     ]
    }
   ],
   "source": [
    "def calculater():\n",
    " try:\n",
    "     a=int(input(\"enter value for a:\"))\n",
    "     b=int(input(\"enter value for b:\"))\n",
    "     operation=input(\"add or sub or multi or div:\")\n",
    "     \n",
    "     if operation == \"add\":\n",
    "       print(\"answer=\",(a+b))\n",
    "     elif operation == \"sub\":\n",
    "       print(\"answer=\",(a-b))\n",
    "     elif operation == \"multi\":\n",
    "       print(\"answer=\",(a*b))\n",
    "     elif operation == \"div\":\n",
    "       print(\"answer=\",(a/b))\n",
    "     else:\n",
    "       print(\"not defind\")\n",
    " except Exception as e:\n",
    "        print(e)\n",
    "calculater()"
   ]
  },
  {
   "cell_type": "code",
   "execution_count": null,
   "id": "6504ca52-1372-46bb-b805-5c0766229c04",
   "metadata": {},
   "outputs": [],
   "source": []
  }
 ],
 "metadata": {
  "kernelspec": {
   "display_name": "Python 3 (ipykernel)",
   "language": "python",
   "name": "python3"
  },
  "language_info": {
   "codemirror_mode": {
    "name": "ipython",
    "version": 3
   },
   "file_extension": ".py",
   "mimetype": "text/x-python",
   "name": "python",
   "nbconvert_exporter": "python",
   "pygments_lexer": "ipython3",
   "version": "3.13.5"
  }
 },
 "nbformat": 4,
 "nbformat_minor": 5
}
