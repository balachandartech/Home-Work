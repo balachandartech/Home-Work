{
 "cells": [
  {
   "cell_type": "code",
   "execution_count": 23,
   "id": "63dd3068-2e20-4632-b133-5fd72511095f",
   "metadata": {},
   "outputs": [
    {
     "name": "stdout",
     "output_type": "stream",
     "text": [
      "                                                                         login sucessfull                                                                         \n",
      "\n",
      "---------------------------------------------------------------------------------------------------------------------------------------------------------------\n",
      "          Student details \n",
      "     name       |   Balachandar          \n",
      "     age        |   27          \n",
      "     department |   mechanical          \n",
      "     gender     |   M          \n",
      "     Location   |   Namakkal          \n"
     ]
    }
   ],
   "source": [
    "college={\n",
    "    \"college\":{\"name\":\"Balachandar\",\"age\":27,\"department\":\"mechanical\",\"gender\":\"M\",\"Location\":\"Namakkal\"}\n",
    "}\n",
    "username=\"username\"\n",
    "password=\"password\"\n",
    "\n",
    "if username==\"username\" and password==\"password\":\n",
    "    print(\"                                                                         login sucessfull                                                                         \")\n",
    "    print()\n",
    "    print(\"---------------------------------------------------------------------------------------------------------------------------------------------------------------\")\n",
    "    print(\"          Student details \")\n",
    "for key,value in college[\"college\"].items():\n",
    "    print(f\"     {key:<10} |   {value}          \")\n",
    "    \n"
   ]
  },
  {
   "cell_type": "code",
   "execution_count": null,
   "id": "965c97eb-6280-47bf-89ef-971a9e6ef40f",
   "metadata": {},
   "outputs": [],
   "source": []
  }
 ],
 "metadata": {
  "kernelspec": {
   "display_name": "Python 3 (ipykernel)",
   "language": "python",
   "name": "python3"
  },
  "language_info": {
   "codemirror_mode": {
    "name": "ipython",
    "version": 3
   },
   "file_extension": ".py",
   "mimetype": "text/x-python",
   "name": "python",
   "nbconvert_exporter": "python",
   "pygments_lexer": "ipython3",
   "version": "3.13.5"
  }
 },
 "nbformat": 4,
 "nbformat_minor": 5
}
