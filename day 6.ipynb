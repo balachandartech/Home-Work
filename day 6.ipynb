{
 "cells": [
  {
   "cell_type": "code",
   "execution_count": 43,
   "id": "aba98976-69b9-4c4f-b7eb-6fc3a4f25207",
   "metadata": {},
   "outputs": [
    {
     "name": "stdin",
     "output_type": "stream",
     "text": [
      "enter your skill: java\n",
      "enter your exp: 1\n",
      "enter your native: chennai\n"
     ]
    },
    {
     "name": "stdout",
     "output_type": "stream",
     "text": [
      "Trios\n"
     ]
    }
   ],
   "source": [
    "skill=input(\"enter your skill:\")\n",
    "exp=int(input(\"enter your exp:\"))\n",
    "native=input(\"enter your native:\")\n",
    "if (skill == \"python\") and (exp ==1) and (native == \"chennai\"):\n",
    "        print(\"TCS\")\n",
    "elif(skill==\"python\") and (exp==2) and (native==\"chennai\"):\n",
    "       print(\"WIBRO\")\n",
    "elif(skill==\"java\") and (exp==1) and (native==\"cbe\"):\n",
    "        print(\"COG\")\n",
    "elif(skill==\"java\") and (exp==1) and (native==\"chennai\"):\n",
    "        print(\"Trios\")\n",
    "elif(skill==\"java\") and (exp==2) and(native==\"cbe\"):\n",
    "        print(\"accenture\")\n",
    "elif(skill==\"java\") and (exp==2) and (native==\"chennai\"):\n",
    "        print(\"HCl\")\n",
    "else:\n",
    "    print(\"NOT DEFIND\")\n",
    "    \n",
    "    "
   ]
  },
  {
   "cell_type": "code",
   "execution_count": null,
   "id": "56cfb5e2-9b0a-45ae-a6bf-44c07a45fbc4",
   "metadata": {},
   "outputs": [],
   "source": []
  },
  {
   "cell_type": "code",
   "execution_count": null,
   "id": "dc94feac-4301-431f-97f1-6d1a851b1756",
   "metadata": {},
   "outputs": [],
   "source": []
  },
  {
   "cell_type": "code",
   "execution_count": null,
   "id": "bbdd9170-aa3b-4ebd-b7a7-e6c0edf3da2b",
   "metadata": {},
   "outputs": [],
   "source": []
  },
  {
   "cell_type": "code",
   "execution_count": null,
   "id": "b0ca693f-6d7d-4e13-9d2c-681c24a03f84",
   "metadata": {},
   "outputs": [],
   "source": []
  },
  {
   "cell_type": "code",
   "execution_count": null,
   "id": "ea3c25b5-de34-4747-b18c-d6d72bd85621",
   "metadata": {},
   "outputs": [],
   "source": []
  }
 ],
 "metadata": {
  "kernelspec": {
   "display_name": "Python [conda env:base] *",
   "language": "python",
   "name": "conda-base-py"
  },
  "language_info": {
   "codemirror_mode": {
    "name": "ipython",
    "version": 3
   },
   "file_extension": ".py",
   "mimetype": "text/x-python",
   "name": "python",
   "nbconvert_exporter": "python",
   "pygments_lexer": "ipython3",
   "version": "3.13.5"
  }
 },
 "nbformat": 4,
 "nbformat_minor": 5
}
