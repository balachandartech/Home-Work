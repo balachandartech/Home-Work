{
 "cells": [
  {
   "cell_type": "code",
   "execution_count": 13,
   "id": "aa86be52-fe78-4a92-9653-f715bfee4827",
   "metadata": {},
   "outputs": [
    {
     "name": "stdin",
     "output_type": "stream",
     "text": [
      "enter n1 7894561\n",
      "enter n2 1235468\n"
     ]
    },
    {
     "name": "stdout",
     "output_type": "stream",
     "text": [
      "addition: 9130029\n",
      "subraction: 6659093\n",
      "multiplication: 60797712203697\n",
      "divide: 1.0952867729116742e-07\n"
     ]
    }
   ],
   "source": [
    "class calculater():\n",
    "             \n",
    "                 \n",
    "                    def __init__(self,a,b):\n",
    "                        self.n1=a\n",
    "                        self.n2=b\n",
    "                    def addition(self):\n",
    "                        self.n3=self.n1+self.n2\n",
    "                        print(\"addition:\",self.n3)\n",
    "                    def subraction(self):\n",
    "                        self.n4=self.n1-self.n2\n",
    "                        print(\"subraction:\",self.n4)\n",
    "                    def multiplication(self):\n",
    "                        self.n5=self.n3*self.n4\n",
    "                        print(\"multiplication:\",self.n5)\n",
    "                    def divide(self):\n",
    "                        self.n6=self.n4/self.n5\n",
    "                        print(\"divide:\",self.n6)\n",
    "        \n",
    "n1=int(input(\"enter n1\"))\n",
    "n2=int(input(\"enter n2\"))\n",
    "c=calculater(n1,n2)\n",
    "c.addition()\n",
    "c.subraction()\n",
    "c.multiplication()\n",
    "c.divide()\n",
    "\n",
    "                 \n",
    "    "
   ]
  },
  {
   "cell_type": "code",
   "execution_count": null,
   "id": "8729842c-0560-4175-a397-8e5722186602",
   "metadata": {},
   "outputs": [],
   "source": []
  }
 ],
 "metadata": {
  "kernelspec": {
   "display_name": "Python 3 (ipykernel)",
   "language": "python",
   "name": "python3"
  },
  "language_info": {
   "codemirror_mode": {
    "name": "ipython",
    "version": 3
   },
   "file_extension": ".py",
   "mimetype": "text/x-python",
   "name": "python",
   "nbconvert_exporter": "python",
   "pygments_lexer": "ipython3",
   "version": "3.13.5"
  }
 },
 "nbformat": 4,
 "nbformat_minor": 5
}
